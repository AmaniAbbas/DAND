{
 "cells": [
  {
   "cell_type": "markdown",
   "metadata": {},
   "source": [
    "# 2016 US Bike Share Activity Snapshot\n",
    "\n",
    "## Table of Contents\n",
    "- [Introduction](#intro)\n",
    "- [Posing Questions](#pose_questions)\n",
    "- [Data Collection and Wrangling](#wrangling)\n",
    "  - [Condensing the Trip Data](#condensing)\n",
    "- [Exploratory Data Analysis](#eda)\n",
    "  - [Statistics](#statistics)\n",
    "  - [Visualizations](#visualizations)\n",
    "- [Performing Your Own Analysis](#eda_continued)\n",
    "- [Conclusions](#conclusions)\n",
    "\n",
    "<a id='intro'></a>\n",
    "## Introduction\n",
    "\n",
    "> **Tip**: Quoted sections like this will provide helpful instructions on how to navigate and use a Jupyter notebook.\n",
    "\n",
    "Over the past decade, bicycle-sharing systems have been growing in number and popularity in cities across the world. Bicycle-sharing systems allow users to rent bicycles for short trips, typically 30 minutes or less. Thanks to the rise in information technologies, it is easy for a user of the system to access a dock within the system to unlock or return bicycles. These technologies also provide a wealth of data that can be used to explore how these bike-sharing systems are used.\n",
    "\n",
    "In this project, you will perform an exploratory analysis on data provided by [Motivate](https://www.motivateco.com/), a bike-share system provider for many major cities in the United States. You will compare the system usage between three large cities: New York City, Chicago, and Washington, DC. You will also see if there are any differences within each system for those users that are registered, regular users and those users that are short-term, casual users."
   ]
  },
  {
   "cell_type": "markdown",
   "metadata": {},
   "source": [
    "<a id='pose_questions'></a>\n",
    "## Posing Questions\n",
    "\n",
    "Before looking at the bike sharing data, you should start by asking questions you might want to understand about the bike share data. Consider, for example, if you were working for Motivate. What kinds of information would you want to know about in order to make smarter business decisions? If you were a user of the bike-share service, what factors might influence how you would want to use the service?\n",
    "\n",
    "**Question 1**: Write at least two questions related to bike sharing that you think could be answered by data.\n",
    "\n",
    "**Answer**: \n",
    "1. **First question:** From which city do we have the largest number of users? and from which city do we have the lowest number of users? \n",
    "2. **Second question:** How many short term users converting to long term registered users per month? and from which city is the largest number of converted users?\n",
    "3. **Third question** Is there a specific day users are most likely to use the service in?\n",
    "\n",
    "> **Tip**: If you double click on this cell, you will see the text change so that all of the formatting is removed. This allows you to edit this block of text. This block of text is written using [Markdown](http://daringfireball.net/projects/markdown/syntax), which is a way to format text using headers, links, italics, and many other options using a plain-text syntax. You will also use Markdown later in the Nanodegree program. Use **Shift** + **Enter** or **Shift** + **Return** to run the cell and show its rendered form."
   ]
  },
  {
   "cell_type": "markdown",
   "metadata": {},
   "source": [
    "<a id='wrangling'></a>\n",
    "## Data Collection and Wrangling\n",
    "\n",
    "Now it's time to collect and explore our data. In this project, we will focus on the record of individual trips taken in 2016 from our selected cities: New York City, Chicago, and Washington, DC. Each of these cities has a page where we can freely download the trip data.:\n",
    "\n",
    "- New York City (Citi Bike): [Link](https://www.citibikenyc.com/system-data)\n",
    "- Chicago (Divvy): [Link](https://www.divvybikes.com/system-data)\n",
    "- Washington, DC (Capital Bikeshare): [Link](https://www.capitalbikeshare.com/system-data)\n",
    "\n",
    "If you visit these pages, you will notice that each city has a different way of delivering its data. Chicago updates with new data twice a year, Washington DC is quarterly, and New York City is monthly. **However, you do not need to download the data yourself.** The data has already been collected for you in the `/data/` folder of the project files. While the original data for 2016 is spread among multiple files for each city, the files in the `/data/` folder collect all of the trip data for the year into one file per city. Some data wrangling of inconsistencies in timestamp format within each city has already been performed for you. In addition, a random 2% sample of the original data is taken to make the exploration more manageable. \n",
    "\n",
    "**Question 2**: However, there is still a lot of data for us to investigate, so it's a good idea to start off by looking at one entry from each of the cities we're going to analyze. Run the first code cell below to load some packages and functions that you'll be using in your analysis. Then, complete the second code cell to print out the first trip recorded from each of the cities (the second line of each data file).\n",
    "\n",
    "> **Tip**: You can run a code cell like you formatted Markdown cells above by clicking on the cell and using the keyboard shortcut **Shift** + **Enter** or **Shift** + **Return**. Alternatively, a code cell can be executed using the **Play** button in the toolbar after selecting it. While the cell is running, you will see an asterisk in the message to the left of the cell, i.e. `In [*]:`. The asterisk will change into a number to show that execution has completed, e.g. `In [1]`. If there is output, it will show up as `Out [1]:`, with an appropriate number to match the \"In\" number."
   ]
  },
  {
   "cell_type": "code",
   "execution_count": 1,
   "metadata": {},
   "outputs": [],
   "source": [
    "## import all necessary packages and functions.\n",
    "import csv # read and write csv files\n",
    "from datetime import datetime # operations to parse dates\n",
    "from pprint import pprint # use to print data structures like dictionaries in\n",
    "                          # a nicer way than the base print function."
   ]
  },
  {
   "cell_type": "code",
   "execution_count": 2,
   "metadata": {},
   "outputs": [
    {
     "name": "stdout",
     "output_type": "stream",
     "text": [
      "\n",
      "City: NYC\n",
      "OrderedDict([('tripduration', '839'),\n",
      "             ('starttime', '1/1/2016 00:09:55'),\n",
      "             ('stoptime', '1/1/2016 00:23:54'),\n",
      "             ('start station id', '532'),\n",
      "             ('start station name', 'S 5 Pl & S 4 St'),\n",
      "             ('start station latitude', '40.710451'),\n",
      "             ('start station longitude', '-73.960876'),\n",
      "             ('end station id', '401'),\n",
      "             ('end station name', 'Allen St & Rivington St'),\n",
      "             ('end station latitude', '40.72019576'),\n",
      "             ('end station longitude', '-73.98997825'),\n",
      "             ('bikeid', '17109'),\n",
      "             ('usertype', 'Customer'),\n",
      "             ('birth year', ''),\n",
      "             ('gender', '0')])\n",
      "\n",
      "City: Chicago\n",
      "OrderedDict([('trip_id', '9080545'),\n",
      "             ('starttime', '3/31/2016 23:30'),\n",
      "             ('stoptime', '3/31/2016 23:46'),\n",
      "             ('bikeid', '2295'),\n",
      "             ('tripduration', '926'),\n",
      "             ('from_station_id', '156'),\n",
      "             ('from_station_name', 'Clark St & Wellington Ave'),\n",
      "             ('to_station_id', '166'),\n",
      "             ('to_station_name', 'Ashland Ave & Wrightwood Ave'),\n",
      "             ('usertype', 'Subscriber'),\n",
      "             ('gender', 'Male'),\n",
      "             ('birthyear', '1990')])\n",
      "\n",
      "City: Washington\n",
      "OrderedDict([('Duration (ms)', '427387'),\n",
      "             ('Start date', '3/31/2016 22:57'),\n",
      "             ('End date', '3/31/2016 23:04'),\n",
      "             ('Start station number', '31602'),\n",
      "             ('Start station', 'Park Rd & Holmead Pl NW'),\n",
      "             ('End station number', '31207'),\n",
      "             ('End station', 'Georgia Ave and Fairmont St NW'),\n",
      "             ('Bike number', 'W20842'),\n",
      "             ('Member Type', 'Registered')])\n"
     ]
    }
   ],
   "source": [
    "def print_first_point(filename):\n",
    "    \"\"\"\n",
    "    This function prints and returns the first data point (second row) from\n",
    "    a csv file that includes a header row.\n",
    "    \"\"\"\n",
    "    # print city name for reference\n",
    "    city = filename.split('-')[0].split('/')[-1]\n",
    "    print('\\nCity: {}'.format(city))\n",
    "    \n",
    "    with open(filename, 'r') as f_in:\n",
    "        ## TODO: Use the csv library to set up a DictReader object. ##\n",
    "        ## see https://docs.python.org/3/library/csv.html           ##\n",
    "        trip_reader = csv.DictReader(f_in)\n",
    "        \n",
    "        ## TODO: Use a function on the DictReader object to read the     ##\n",
    "        ## first trip from the data file and store it in a variable.     ##\n",
    "        ## see https://docs.python.org/3/library/csv.html#reader-objects ##\n",
    "        first_trip = next(trip_reader)\n",
    "        \n",
    "        ## TODO: Use the pprint library to print the first trip. ##\n",
    "        ## see https://docs.python.org/3/library/pprint.html     ##\n",
    "        pprint(first_trip)\n",
    "        \n",
    "    # output city name and first trip for later testing\n",
    "    return (city, first_trip)\n",
    "\n",
    "# list of files for each city\n",
    "data_files = ['./data/NYC-CitiBike-2016.csv',\n",
    "              './data/Chicago-Divvy-2016.csv',\n",
    "              './data/Washington-CapitalBikeshare-2016.csv',]\n",
    "\n",
    "# print the first trip from each file, store in dictionary\n",
    "example_trips = {}\n",
    "for data_file in data_files:\n",
    "    city, first_trip = print_first_point(data_file)\n",
    "    example_trips[city] = first_trip"
   ]
  },
  {
   "cell_type": "markdown",
   "metadata": {},
   "source": [
    "If everything has been filled out correctly, you should see below the printout of each city name (which has been parsed from the data file name) that the first trip has been parsed in the form of a dictionary. When you set up a `DictReader` object, the first row of the data file is normally interpreted as column names. Every other row in the data file will use those column names as keys, as a dictionary is generated for each row.\n",
    "\n",
    "This will be useful since we can refer to quantities by an easily-understandable label instead of just a numeric index. For example, if we have a trip stored in the variable `row`, then we would rather get the trip duration from `row['duration']` instead of `row[0]`.\n",
    "\n",
    "<a id='condensing'></a>\n",
    "### Condensing the Trip Data\n",
    "\n",
    "It should also be observable from the above printout that each city provides different information. Even where the information is the same, the column names and formats are sometimes different. To make things as simple as possible when we get to the actual exploration, we should trim and clean the data. Cleaning the data makes sure that the data formats across the cities are consistent, while trimming focuses only on the parts of the data we are most interested in to make the exploration easier to work with.\n",
    "\n",
    "You will generate new data files with five values of interest for each trip: trip duration, starting month, starting hour, day of the week, and user type. Each of these may require additional wrangling depending on the city:\n",
    "\n",
    "- **Duration**: This has been given to us in seconds (New York, Chicago) or milliseconds (Washington). A more natural unit of analysis will be if all the trip durations are given in terms of minutes.\n",
    "- **Month**, **Hour**, **Day of Week**: Ridership volume is likely to change based on the season, time of day, and whether it is a weekday or weekend. Use the start time of the trip to obtain these values. The New York City data includes the seconds in their timestamps, while Washington and Chicago do not. The [`datetime`](https://docs.python.org/3/library/datetime.html) package will be very useful here to make the needed conversions.\n",
    "- **User Type**: It is possible that users who are subscribed to a bike-share system will have different patterns of use compared to users who only have temporary passes. Washington divides its users into two types: 'Registered' for users with annual, monthly, and other longer-term subscriptions, and 'Casual', for users with 24-hour, 3-day, and other short-term passes. The New York and Chicago data uses 'Subscriber' and 'Customer' for these groups, respectively. For consistency, you will convert the Washington labels to match the other two.\n",
    "\n",
    "\n",
    "**Question 3a**: Complete the helper functions in the code cells below to address each of the cleaning tasks described above."
   ]
  },
  {
   "cell_type": "code",
   "execution_count": 3,
   "metadata": {},
   "outputs": [],
   "source": [
    "def duration_in_mins(datum, city):\n",
    "    \"\"\"\n",
    "    Takes as input a dictionary containing info about a single trip (datum) and\n",
    "    its origin city (city) and returns the trip duration in units of minutes.\n",
    "    \n",
    "    Remember that Washington is in terms of milliseconds while Chicago and NYC\n",
    "    are in terms of seconds. \n",
    "    \n",
    "    HINT: The csv module reads in all of the data as strings, including numeric\n",
    "    values. You will need a function to convert the strings into an appropriate\n",
    "    numeric type when making your transformations.\n",
    "    see https://docs.python.org/3/library/functions.html\n",
    "    \"\"\"\n",
    "    if city == 'Washington':\n",
    "        dur = int(datum['Duration (ms)'])\n",
    "        duration = (dur/1000)/60\n",
    "    else:\n",
    "        dur = int(datum['tripduration'])\n",
    "        duration = dur/60\n",
    "        \n",
    "\n",
    "    \n",
    "    return duration\n",
    "\n",
    "\n",
    "# Some tests to check that your code works. There should be no output if all of\n",
    "# the assertions pass. The `example_trips` dictionary was obtained from when\n",
    "# you printed the first trip from each of the original data files.\n",
    "tests = {'NYC': 13.9833,\n",
    "         'Chicago': 15.4333,\n",
    "         'Washington': 7.1231}\n",
    "\n",
    "for city in tests:\n",
    "    assert abs(duration_in_mins(example_trips[city], city) - tests[city]) < .001"
   ]
  },
  {
   "cell_type": "code",
   "execution_count": 4,
   "metadata": {},
   "outputs": [],
   "source": [
    "def time_of_trip(datum, city):\n",
    "    \"\"\"\n",
    "    Takes as input a dictionary containing info about a single trip (datum) and\n",
    "    its origin city (city) and returns the month, hour, and day of the week in\n",
    "    which the trip was made.\n",
    "    \n",
    "    Remember that NYC includes seconds, while Washington and Chicago do not.\n",
    "    \n",
    "    HINT: You should use the datetime module to parse the original date\n",
    "    strings into a format that is useful for extracting the desired information.\n",
    "    see https://docs.python.org/3/library/datetime.html#strftime-and-strptime-behavior\n",
    "    \"\"\"\n",
    "    if city == 'Washington':\n",
    "        #'Start date', '3/31/2016 22:57'\n",
    "        time = datetime.strptime(datum['Start date'], \"%m/%d/%Y %H:%M\")\n",
    "    elif city == 'NYC':\n",
    "        #'starttime', '1/1/2016 00:09:55'\n",
    "        time = datetime.strptime(datum['starttime'], \"%m/%d/%Y %H:%M:%S\")\n",
    "    else:\n",
    "        #'starttime', '3/31/2016 23:30'\n",
    "        time = datetime.strptime(datum['starttime'], \"%m/%d/%Y %H:%M\")\n",
    "    \n",
    "    month = int(time.strftime(\"%m\"))\n",
    "    hour = int(time.strftime(\"%H\"))\n",
    "    day_of_week = time.strftime(\"%A\")\n",
    "\n",
    "    \n",
    "    return (month, hour, day_of_week)\n",
    "\n",
    "\n",
    "# Some tests to check that your code works. There should be no output if all of\n",
    "# the assertions pass. The `example_trips` dictionary was obtained from when\n",
    "# you printed the first trip from each of the original data files.\n",
    "tests = {'NYC': (1, 0, 'Friday'),\n",
    "         'Chicago': (3, 23, 'Thursday'),\n",
    "         'Washington': (3, 22, 'Thursday')}\n",
    "\n",
    "for city in tests:\n",
    "    assert time_of_trip(example_trips[city], city) == tests[city]"
   ]
  },
  {
   "cell_type": "code",
   "execution_count": 5,
   "metadata": {},
   "outputs": [],
   "source": [
    "def type_of_user(datum, city):\n",
    "    \"\"\"\n",
    "    Takes as input a dictionary containing info about a single trip (datum) and\n",
    "    its origin city (city) and returns the type of system user that made the\n",
    "    trip.\n",
    "    \n",
    "    Remember that Washington has different category names compared to Chicago\n",
    "    and NYC. \n",
    "    \"\"\"\n",
    "    \n",
    "    # YOUR CODE HERE\n",
    "    if city == 'Washington':\n",
    "        #'Member Type', 'Registered'\n",
    "        user = datum['Member Type']\n",
    "        if user == 'Registered':\n",
    "            user_type = 'Subscriber'\n",
    "        else:\n",
    "            user_type = 'Customer'\n",
    "    else:\n",
    "        user_type = datum['usertype']\n",
    "        \n",
    "    return user_type\n",
    "\n",
    "\n",
    "# Some tests to check that your code works. There should be no output if all of\n",
    "# the assertions pass. The `example_trips` dictionary was obtained from when\n",
    "# you printed the first trip from each of the original data files.\n",
    "tests = {'NYC': 'Customer',\n",
    "         'Chicago': 'Subscriber',\n",
    "         'Washington': 'Subscriber'}\n",
    "\n",
    "for city in tests:\n",
    "    assert type_of_user(example_trips[city], city) == tests[city]"
   ]
  },
  {
   "cell_type": "markdown",
   "metadata": {},
   "source": [
    "**Question 3b**: Now, use the helper functions you wrote above to create a condensed data file for each city consisting only of the data fields indicated above. In the `/examples/` folder, you will see an example datafile from the [Bay Area Bike Share](http://www.bayareabikeshare.com/open-data) before and after conversion. Make sure that your output is formatted to be consistent with the example file."
   ]
  },
  {
   "cell_type": "code",
   "execution_count": 6,
   "metadata": {},
   "outputs": [],
   "source": [
    "def condense_data(in_file, out_file, city):\n",
    "    \"\"\"\n",
    "    This function takes full data from the specified input file\n",
    "    and writes the condensed data to a specified output file. The city\n",
    "    argument determines how the input file will be parsed.\n",
    "    \n",
    "    HINT: See the cell below to see how the arguments are structured!\n",
    "    \"\"\"\n",
    "    \n",
    "    with open(out_file, 'w') as f_out, open(in_file, 'r') as f_in:\n",
    "        # set up csv DictWriter object - writer requires column names for the\n",
    "        # first row as the \"fieldnames\" argument\n",
    "        out_colnames = ['duration', 'month', 'hour', 'day_of_week', 'user_type']        \n",
    "        trip_writer = csv.DictWriter(f_out, fieldnames = out_colnames)\n",
    "        trip_writer.writeheader()\n",
    "        \n",
    "        ## TODO: set up csv DictReader object ##\n",
    "        trip_reader = csv.DictReader(f_in)\n",
    "\n",
    "        # collect data from and process each row\n",
    "        for row in trip_reader:\n",
    "            # set up a dictionary to hold the values for the cleaned and trimmed\n",
    "            # data point\n",
    "            new_point = {}\n",
    "            \n",
    "            new_point['duration']= duration_in_mins(row, city )\n",
    "            new_point['month'], new_point['hour'], new_point['day_of_week'] = time_of_trip(row, city)\n",
    "            new_point['user_type'] = type_of_user(row, city)\n",
    "\n",
    "            \n",
    "\n",
    "            ## TODO: write the processed information to the output file.     ##\n",
    "            ## see https://docs.python.org/3/library/csv.html#writer-objects ##\n",
    "            trip_writer.writerow(new_point)\n",
    "            "
   ]
  },
  {
   "cell_type": "code",
   "execution_count": 7,
   "metadata": {},
   "outputs": [
    {
     "name": "stdout",
     "output_type": "stream",
     "text": [
      "\n",
      "City: Washington\n",
      "OrderedDict([('duration', '7.123116666666666'),\n",
      "             ('month', '3'),\n",
      "             ('hour', '22'),\n",
      "             ('day_of_week', 'Thursday'),\n",
      "             ('user_type', 'Subscriber')])\n",
      "\n",
      "City: Chicago\n",
      "OrderedDict([('duration', '15.433333333333334'),\n",
      "             ('month', '3'),\n",
      "             ('hour', '23'),\n",
      "             ('day_of_week', 'Thursday'),\n",
      "             ('user_type', 'Subscriber')])\n",
      "\n",
      "City: NYC\n",
      "OrderedDict([('duration', '13.983333333333333'),\n",
      "             ('month', '1'),\n",
      "             ('hour', '0'),\n",
      "             ('day_of_week', 'Friday'),\n",
      "             ('user_type', 'Customer')])\n"
     ]
    }
   ],
   "source": [
    "# Run this cell to check your work\n",
    "city_info = {'Washington': {'in_file': './data/Washington-CapitalBikeshare-2016.csv',\n",
    "                            'out_file': './data/Washington-2016-Summary.csv'},\n",
    "             'Chicago': {'in_file': './data/Chicago-Divvy-2016.csv',\n",
    "                         'out_file': './data/Chicago-2016-Summary.csv'},\n",
    "             'NYC': {'in_file': './data/NYC-CitiBike-2016.csv',\n",
    "                     'out_file': './data/NYC-2016-Summary.csv'}}\n",
    "\n",
    "for city, filenames in city_info.items():\n",
    "    condense_data(filenames['in_file'], filenames['out_file'], city)\n",
    "    print_first_point(filenames['out_file'])"
   ]
  },
  {
   "cell_type": "markdown",
   "metadata": {},
   "source": [
    "> **Tip**: If you save a jupyter Notebook, the output from running code blocks will also be saved. However, the state of your workspace will be reset once a new session is started. Make sure that you run all of the necessary code blocks from your previous session to reestablish variables and functions before picking up where you last left off.\n",
    "\n",
    "<a id='eda'></a>\n",
    "## Exploratory Data Analysis\n",
    "\n",
    "Now that you have the data collected and wrangled, you're ready to start exploring the data. In this section you will write some code to compute descriptive statistics from the data. You will also be introduced to the `matplotlib` library to create some basic histograms of the data.\n",
    "\n",
    "<a id='statistics'></a>\n",
    "### Statistics\n",
    "\n",
    "First, let's compute some basic counts. The first cell below contains a function that uses the csv module to iterate through a provided data file, returning the number of trips made by subscribers and customers. The second cell runs this function on the example Bay Area data in the `/examples/` folder. Modify the cells to answer the question below.\n",
    "\n",
    "**Question 4a**: Which city has the highest number of trips? Which city has the highest proportion of trips made by subscribers? Which city has the highest proportion of trips made by short-term customers?\n",
    "\n",
    "**Answer**: The city with the highest number of trips is **NYC** with *total 276798*.\n",
    "The city with the highest proportion of trips made by *subscribers* is **NYC** with *0.8883590199351151*.\n",
    "The city with the highest proportion of trips made by *short-term customers* is **Chicago** with *0.23774798630269924*."
   ]
  },
  {
   "cell_type": "code",
   "execution_count": 8,
   "metadata": {},
   "outputs": [],
   "source": [
    "def number_of_trips(filename, city):\n",
    "    \"\"\"\n",
    "    This function reads in a file with trip data and reports the number of\n",
    "    trips made by subscribers, customers, and total overall.\n",
    "    \"\"\"\n",
    "    with open(filename, 'r') as f:\n",
    "        # set up csv reader object\n",
    "        reader = csv.DictReader(f)\n",
    "        \n",
    "        # initialize count variables\n",
    "        n_subscribers = 0\n",
    "        n_customers = 0\n",
    "        \n",
    "        # tally up ride types\n",
    "        for row in reader:\n",
    "            if row['user_type'] == 'Subscriber':\n",
    "                n_subscribers += 1\n",
    "            else:\n",
    "                n_customers += 1\n",
    "        \n",
    "        # compute total number of rides\n",
    "        n_total = n_subscribers + n_customers\n",
    "        # proportion of trips made by subscribers\n",
    "        p_subscribers = n_subscribers/n_total\n",
    "        # proportion of trips made by customers\n",
    "        p_customers = n_customers/n_total\n",
    "        \n",
    "        # return tallies as a tuple\n",
    "        return(p_subscribers, p_customers, n_total)"
   ]
  },
  {
   "cell_type": "code",
   "execution_count": 9,
   "metadata": {},
   "outputs": [
    {
     "name": "stdout",
     "output_type": "stream",
     "text": [
      "Proportion of trips made by Subscribers=  {'Washington': 0.7802822422579381, 'Chicago': 0.7622520136973008, 'NYC': 0.8883590199351151}\n",
      "Proportion of trips made by Customers=  {'Washington': 0.21971775774206193, 'Chicago': 0.23774798630269925, 'NYC': 0.11164098006488486}\n",
      "Total number of rides=  {'Washington': 66326, 'Chicago': 72131, 'NYC': 276798}\n"
     ]
    }
   ],
   "source": [
    "## Modify this and the previous cell to answer Question 4a. Remember to run ##\n",
    "## the function on the cleaned data files you created from Question 3.      ##\n",
    "city_info = {'Washington':'./data/Washington-2016-Summary.csv',\n",
    "             'Chicago':'./data/Chicago-2016-Summary.csv',\n",
    "             'NYC':'./data/NYC-2016-Summary.csv'}\n",
    "city_names= ['NYC', 'Chicago', 'Washington']\n",
    "psubscribers= {} \n",
    "pcustomers= {}\n",
    "total= {}\n",
    "for city, filename in city_info.items():\n",
    "    for city in city_names:\n",
    "        if city_names[-1] == city:\n",
    "            #create a list for each city\n",
    "            city_list = []\n",
    "            city_list.append(number_of_trips(filename,city)[0])\n",
    "            city_list.append(number_of_trips(filename,city)[1])\n",
    "            city_list.append(number_of_trips(filename,city)[2])\n",
    "            #create a dictionary for each category\n",
    "            psubscribers[city]= number_of_trips(filename,city)[0]\n",
    "            pcustomers[city]= number_of_trips(filename,city)[1]\n",
    "            total[city]= number_of_trips(filename,city)[2]\n",
    "            city_names.pop()\n",
    "print(\"Proportion of trips made by Subscribers= \", psubscribers)\n",
    "print(\"Proportion of trips made by Customers= \", pcustomers)\n",
    "print(\"Total number of rides= \",total)"
   ]
  },
  {
   "cell_type": "code",
   "execution_count": 10,
   "metadata": {},
   "outputs": [
    {
     "name": "stdout",
     "output_type": "stream",
     "text": [
      "The city with the highest number of trips is NYC with total 276798.\n",
      "The city with the highest proportion of trips made by subscribers is NYC with 0.8883590199351151.\n",
      "The city with the highest proportion of trips made by short-term customers is Chicago with 0.23774798630269925.\n"
     ]
    }
   ],
   "source": [
    "def the_highest (dictionary):\n",
    "    #finding the highest number for each dictionary and it's key\n",
    "    maximum = None #the maximum value in each dictionary \n",
    "    theone= None #the key of the maximum value\n",
    "    for k,v in dictionary.items():\n",
    "        if maximum is None or v > maximum:\n",
    "            maximum = v\n",
    "            theone = k\n",
    "    return(theone, maximum)\n",
    "\n",
    "print(\"The city with the highest number of trips is {} with total {}.\".format(the_highest(total)[0],the_highest(total)[1]))\n",
    "print(\"The city with the highest proportion of trips made by subscribers is {} with {}.\".format(the_highest(psubscribers)[0],the_highest(psubscribers)[1]))\n",
    "print(\"The city with the highest proportion of trips made by short-term customers is {} with {}.\".format(the_highest(pcustomers)[0],the_highest(pcustomers)[1]))"
   ]
  },
  {
   "cell_type": "markdown",
   "metadata": {},
   "source": [
    "> **Tip**: In order to add additional cells to a notebook, you can use the \"Insert Cell Above\" and \"Insert Cell Below\" options from the menu bar above. There is also an icon in the toolbar for adding new cells, with additional icons for moving the cells up and down the document. By default, new cells are of the code type; you can also specify the cell type (e.g. Code or Markdown) of selected cells from the Cell menu or the dropdown in the toolbar.\n",
    "\n",
    "Now, you will write your own code to continue investigating properties of the data.\n",
    "\n",
    "**Question 4b**: Bike-share systems are designed for riders to take short trips. Most of the time, users are allowed to take trips of 30 minutes or less with no additional charges, with overage charges made for trips of longer than that duration. What is the average trip length for each city? What proportion of rides made in each city are longer than 30 minutes?\n",
    "\n",
    "**Answer**: \n",
    "* Washington: The average trip length= 18.93287355913721, The proportion of rides that are longer than 30 minutes= 8.383343854848266\n",
    "* Chicago: The average trip length= 16.563629368787335, The proportion of rides that are longer than 30 minutes= 5.344359799069289\n",
    "* NYC: The average trip length= 15.81259299802294, The proportion of rides that are longer than 30 minutes= 5.163310067269288"
   ]
  },
  {
   "cell_type": "code",
   "execution_count": 11,
   "metadata": {
    "scrolled": true
   },
   "outputs": [],
   "source": [
    "## Use this and additional cells to answer Question 4b.                 ##\n",
    "##                                                                      ##\n",
    "## HINT: The csv module reads in all of the data as strings, including  ##\n",
    "## numeric values. You will need a function to convert the strings      ##\n",
    "## into an appropriate numeric type before you aggregate data.          ##\n",
    "## TIP: For the Bay Area example, the average trip length is 14 minutes ##\n",
    "## and 3.5% of trips are longer than 30 minutes.                        ##\n",
    "\n",
    "\n",
    "def the_average(filename, city):\n",
    "    \"\"\"\n",
    "    This function reads in a file with trip data and reports the number of\n",
    "    trips made by subscribers, customers, and total overall.\n",
    "    \"\"\"\n",
    "    with open(filename, 'r') as f:\n",
    "        # set up csv reader object\n",
    "        reader = csv.DictReader(f)\n",
    "        \n",
    "        # initialize count variables\n",
    "        total = 0\n",
    "        counts = 0\n",
    "        more_30 = 0\n",
    "        \n",
    "        for row in reader:  # sum up durations and count them \n",
    "            total += float(row['duration'])\n",
    "            counts += 1\n",
    "            if float(row['duration']) > 30:\n",
    "                more_30 += float(row['duration'])\n",
    "        \n",
    "    average= total/counts\n",
    "    p_more_30= more_30/counts\n",
    "    \n",
    "    return \"The average trip length= \"+str(average) ,\"The proportion of rides that are longer than 30 minutes= \"+str(p_more_30)  \n"
   ]
  },
  {
   "cell_type": "code",
   "execution_count": 12,
   "metadata": {},
   "outputs": [
    {
     "name": "stdout",
     "output_type": "stream",
     "text": [
      "{'Washington': ('The average trip length= 18.93287355913721', 'The proportion of rides that are longer than 30 minutes= 8.383343854848267'), 'Chicago': ('The average trip length= 16.563629368787335', 'The proportion of rides that are longer than 30 minutes= 5.344359799069288'), 'NYC': ('The average trip length= 15.81259299802294', 'The proportion of rides that are longer than 30 minutes= 5.163310067269287')}\n"
     ]
    }
   ],
   "source": [
    "city_info = {'Washington':'./data/Washington-2016-Summary.csv',\n",
    "             'Chicago':'./data/Chicago-2016-Summary.csv',\n",
    "             'NYC':'./data/NYC-2016-Summary.csv'}\n",
    "city_names= ['NYC', 'Chicago', 'Washington']\n",
    "Avg_duration={}\n",
    "for city, filename in city_info.items():\n",
    "    for city in city_names:\n",
    "        if city_names[-1] == city:\n",
    "            #create a list for each city\n",
    "            Avg_duration[city]= the_average(filename, city)\n",
    "            city_names.pop()\n",
    "print(Avg_duration)"
   ]
  },
  {
   "cell_type": "markdown",
   "metadata": {},
   "source": [
    "**Question 4c**: Dig deeper into the question of trip duration based on ridership. Choose one city. Within that city, which type of user takes longer rides on average: Subscribers or Customers?\n",
    "\n",
    "**Answer**: \n",
    "City name is **Washington:**\n",
    "    * The average trip length for Subscribers= 12.528120499294745\n",
    "    * The average trip length for Customers= 41.67803139252976\n",
    "    * The proportion of rides that are longer than 30 minutes for Subscribers= 1.9793313720943735\n",
    "    * The proportion of rides that are longer than 30 minutes for Customers= 31.12587168164873"
   ]
  },
  {
   "cell_type": "code",
   "execution_count": 13,
   "metadata": {},
   "outputs": [],
   "source": [
    "## Use this and additional cells to answer Question 4c. If you have    ##\n",
    "## not done so yet, consider revising some of your previous code to    ##\n",
    "## make use of functions for reusability.                              ##\n",
    "##                                                                     ##\n",
    "## TIP: For the Bay Area example data, you should find the average     ##\n",
    "## Subscriber trip duration to be 9.5 minutes and the average Customer ##\n",
    "## trip duration to be 54.6 minutes. Do the other cities have this     ##\n",
    "## level of difference?                                                ##\n",
    "\n",
    "def the_average(filename, city):\n",
    "    \"\"\"\n",
    "    This function reads in a file with trip data and reports the number of\n",
    "    trips made by subscribers, customers, and total overall.\n",
    "    \"\"\"\n",
    "    with open(filename, 'r') as f_in:\n",
    "        # set up csv reader object\n",
    "        reader = csv.DictReader(f_in)\n",
    "        \n",
    "        # initialize count and sum variables\n",
    "        s_total = 0 #subscribers\n",
    "        s_counts = 0\n",
    "        s_more_30 = 0\n",
    "        c_total = 0 #customers\n",
    "        c_counts = 0\n",
    "        c_more_30 = 0\n",
    "        \n",
    "        for row in reader:\n",
    "            if row['user_type']== 'Subscriber':\n",
    "                s_total += float(row['duration'])\n",
    "                s_counts += 1\n",
    "                if float(row['duration']) > 30:\n",
    "                    s_more_30 += float(row['duration'])\n",
    "            else:\n",
    "                c_total += float(row['duration'])\n",
    "                c_counts += 1\n",
    "                if float(row['duration']) > 30:\n",
    "                    c_more_30 += float(row['duration'])\n",
    "        \n",
    "    s_average = s_total/s_counts\n",
    "    c_average = c_total/c_counts\n",
    "    p_s_more_30 = s_more_30/s_counts\n",
    "    p_c_more_30 = c_more_30/c_counts\n",
    "    \n",
    "    return \"The average trip length for Subscribers= \"+str(s_average) ,\"The average trip length for Customers= \"+str(c_average), \"The proportion of rides that are longer than 30 minutes for Subscribers= \"+ str(p_s_more_30), \"The proportion of rides that are longer than 30 minutes for Customers= \"+str(p_c_more_30)\n"
   ]
  },
  {
   "cell_type": "code",
   "execution_count": 14,
   "metadata": {},
   "outputs": [
    {
     "name": "stdout",
     "output_type": "stream",
     "text": [
      "{'Washington': ('The average trip length for Subscribers= 12.528120499294745', 'The average trip length for Customers= 41.67803139252976', 'The proportion of rides that are longer than 30 minutes for Subscribers= 1.9793313720943735', 'The proportion of rides that are longer than 30 minutes for Customers= 31.125871681648732')}\n"
     ]
    }
   ],
   "source": [
    "city_info = {'Washington':'./data/Washington-2016-Summary.csv'}\n",
    "Avg_duration_s_c={}\n",
    "for city, filename in city_info.items():\n",
    "    Avg_duration_s_c[city]= the_average(filename, city)\n",
    "print(Avg_duration_s_c)"
   ]
  },
  {
   "cell_type": "markdown",
   "metadata": {},
   "source": [
    "<a id='visualizations'></a>\n",
    "### Visualizations\n",
    "\n",
    "The last set of values that you computed should have pulled up an interesting result. While the mean trip time for Subscribers is well under 30 minutes, the mean trip time for Customers is actually _above_ 30 minutes! It will be interesting for us to look at how the trip times are distributed. In order to do this, a new library will be introduced here, `matplotlib`. Run the cell below to load the library and to generate an example plot."
   ]
  },
  {
   "cell_type": "code",
   "execution_count": 15,
   "metadata": {},
   "outputs": [
    {
     "data": {
      "image/png": "[encoded data removed]",
      "text/plain": [
       "<Figure size 432x288 with 1 Axes>"
      ]
     },
     "metadata": {},
     "output_type": "display_data"
    }
   ],
   "source": [
    "# load library\n",
    "import matplotlib.pyplot as plt\n",
    "\n",
    "# this is a 'magic word' that allows for plots to be displayed\n",
    "# inline with the notebook. If you want to know more, see:\n",
    "# http://ipython.readthedocs.io/en/stable/interactive/magics.html\n",
    "%matplotlib inline \n",
    "\n",
    "# example histogram, data taken from bay area sample\n",
    "data = [ 7.65,  8.92,  7.42,  5.50, 16.17,  4.20,  8.98,  9.62, 11.48, 14.33,\n",
    "        19.02, 21.53,  3.90,  7.97,  2.62,  2.67,  3.08, 14.40, 12.90,  7.83,\n",
    "        25.12,  8.30,  4.93, 12.43, 10.60,  6.17, 10.88,  4.78, 15.15,  3.53,\n",
    "         9.43, 13.32, 11.72,  9.85,  5.22, 15.10,  3.95,  3.17,  8.78,  1.88,\n",
    "         4.55, 12.68, 12.38,  9.78,  7.63,  6.45, 17.38, 11.90, 11.52,  8.63,]\n",
    "plt.hist(data)\n",
    "plt.title('Distribution of Trip Durations')\n",
    "plt.xlabel('Duration (m)')\n",
    "plt.show()"
   ]
  },
  {
   "cell_type": "markdown",
   "metadata": {},
   "source": [
    "In the above cell, we collected fifty trip times in a list, and passed this list as the first argument to the `.hist()` function. This function performs the computations and creates plotting objects for generating a histogram, but the plot is actually not rendered until the `.show()` function is executed. The `.title()` and `.xlabel()` functions provide some labeling for plot context.\n",
    "\n",
    "You will now use these functions to create a histogram of the trip times for the city you selected in question 4c. Don't separate the Subscribers and Customers for now: just collect all of the trip times and plot them."
   ]
  },
  {
   "cell_type": "code",
   "execution_count": 16,
   "metadata": {},
   "outputs": [],
   "source": [
    "## Use this and additional cells to collect all of the trip times as a list ##\n",
    "def times_as_list(filename, city):\n",
    "    import matplotlib.pyplot as plt\n",
    "    %matplotlib inline \n",
    "    with open(filename, 'r') as f:\n",
    "        # set up csv reader object\n",
    "        reader = csv.DictReader(f)\n",
    "        data= []\n",
    "        for row in reader:\n",
    "            dur = float(row['duration'])\n",
    "            data.append(dur)\n",
    "\n",
    "## and then use pyplot functions to generate a histogram of trip times.     ##\n",
    "    plt.hist(data)\n",
    "    plt.title('Distribution of Trip Durations')\n",
    "    plt.suptitle('Washington')\n",
    "    plt.xlabel('Duration (m)')\n",
    "    plt.show()\n",
    "\n"
   ]
  },
  {
   "cell_type": "code",
   "execution_count": 17,
   "metadata": {},
   "outputs": [
    {
     "data": {
      "image/png": "[encoded data removed]",
      "text/plain": [
       "<Figure size 432x288 with 1 Axes>"
      ]
     },
     "metadata": {},
     "output_type": "display_data"
    }
   ],
   "source": [
    "city_info = {'Washington':'./data/Washington-2016-Summary.csv'}\n",
    "for city, filename in city_info.items():\n",
    "    times_as_list(filename, city)"
   ]
  },
  {
   "cell_type": "markdown",
   "metadata": {},
   "source": [
    "If you followed the use of the `.hist()` and `.show()` functions exactly like in the example, you're probably looking at a plot that's completely unexpected. The plot consists of one extremely tall bar on the left, maybe a very short second bar, and a whole lot of empty space in the center and right. Take a look at the duration values on the x-axis. This suggests that there are some highly infrequent outliers in the data. Instead of reprocessing the data, you will use additional parameters with the `.hist()` function to limit the range of data that is plotted. Documentation for the function can be found [[here]](https://matplotlib.org/devdocs/api/_as_gen/matplotlib.pyplot.hist.html#matplotlib.pyplot.hist).\n",
    "\n",
    "**Question 5**: Use the parameters of the `.hist()` function to plot the distribution of trip times for the Subscribers in your selected city. Do the same thing for only the Customers. Add limits to the plots so that only trips of duration less than 75 minutes are plotted. As a bonus, set the plots up so that bars are in five-minute wide intervals. For each group, where is the peak of each distribution? How would you describe the shape of each distribution?\n",
    "\n",
    "**Answer**: \n",
    "**Observations for Subscribers Histogram:**\n",
    "1. The distribution is right-skewed.\n",
    "2. The mean as we have calculated before is about 12.528 minutes, and the mode as shown in the histogram is 5 to 10 minutes.\n",
    "3. The peak of the distribution of trip times for subscribers is in between 0 and 15 minutes.\n",
    "3. Most of the trips are below 20 minutes, a few are between 20 and 30 minutes, and very few are above 30 minutes.\n",
    "\n",
    "\n",
    "**Observations for Customers Histogram:**\n",
    "1. The distribution is right-skewed.\n",
    "2. The mean as we have calculated before is about 41.678 minutes, and the mode as shown in the histogram is 15 to 20 minutes.\n",
    "3. The peak of the distribution of trip times for subscribers is in between 5 and 30 minutes.\n",
    "3. Most of the trips are below 35 minutes, however the tail of the shape has a good number of customers who are taking trips over 35 till 75 minutes."
   ]
  },
  {
   "cell_type": "code",
   "execution_count": 18,
   "metadata": {},
   "outputs": [
    {
     "data": {
      "image/png": "[encoded data removed]",
      "text/plain": [
       "<Figure size 432x288 with 1 Axes>"
      ]
     },
     "metadata": {},
     "output_type": "display_data"
    },
    {
     "data": {
      "image/png": "[encoded data removed]",
      "text/plain": [
       "<Figure size 432x288 with 1 Axes>"
      ]
     },
     "metadata": {},
     "output_type": "display_data"
    }
   ],
   "source": [
    "## Use this and additional cells to answer Question 5. ##\n",
    "import matplotlib.pyplot as plt\n",
    "#city = 'Washington'\n",
    "filename = './data/Washington-2016-Summary.csv'\n",
    "with open(filename, 'r') as f:\n",
    "        # set up csv reader object\n",
    "        reader = csv.DictReader(f)\n",
    "        data= []   #create a list for Subscribers duration\n",
    "        data2= []  #create a list for Customers duration\n",
    "        for row in reader:\n",
    "            if row['user_type']== 'Subscriber':\n",
    "                dur = float(row['duration'])\n",
    "                data.append(dur)\n",
    "            else:\n",
    "                dur = float(row['duration'])\n",
    "                data2.append(dur)\n",
    "\n",
    "plt.hist(data, bins= 15, range= (0, 75.0))\n",
    "plt.title('Distribution of Trip Durations for Subscribers')\n",
    "plt.suptitle('Washington')\n",
    "plt.xlabel('Duration (m)')\n",
    "plt.show()\n",
    "plt.hist(data2, bins= 15, range= (0, 75.0))\n",
    "plt.title('Distribution of Trip Durations for Customers')\n",
    "plt.suptitle('Washington')\n",
    "plt.xlabel('Duration (m)')\n",
    "plt.show()"
   ]
  },
  {
   "cell_type": "markdown",
   "metadata": {
    "collapsed": true
   },
   "source": [
    "<a id='eda_continued'></a>\n",
    "## Performing Your Own Analysis\n",
    "\n",
    "So far, you've performed an initial exploration into the data available. You have compared the relative volume of trips made between three U.S. cities and the ratio of trips made by Subscribers and Customers. For one of these cities, you have investigated differences between Subscribers and Customers in terms of how long a typical trip lasts. Now it is your turn to continue the exploration in a direction that you choose. Here are a few suggestions for questions to explore:\n",
    "\n",
    "- How does ridership differ by month or season? Which month / season has the highest ridership? Does the ratio of Subscriber trips to Customer trips change depending on the month or season?\n",
    "- Is the pattern of ridership different on the weekends versus weekdays? On what days are Subscribers most likely to use the system? What about Customers? Does the average duration of rides change depending on the day of the week?\n",
    "- During what time of day is the system used the most? Is there a difference in usage patterns for Subscribers and Customers?\n",
    "\n",
    "If any of the questions you posed in your answer to question 1 align with the bullet points above, this is a good opportunity to investigate one of them. As part of your investigation, you will need to create a visualization. If you want to create something other than a histogram, then you might want to consult the [Pyplot documentation](https://matplotlib.org/devdocs/api/pyplot_summary.html). In particular, if you are plotting values across a categorical variable (e.g. city, user type), a bar chart will be useful. The [documentation page for `.bar()`](https://matplotlib.org/devdocs/api/_as_gen/matplotlib.pyplot.bar.html#matplotlib.pyplot.bar) includes links at the bottom of the page with examples for you to build off of for your own use.\n",
    "\n",
    "**Question 6**: Continue the investigation by exploring another question that could be answered by the data available. Document the question you want to explore below. Your investigation should involve at least two variables and should compare at least two groups. You should also use at least one visualization as part of your explorations.\n",
    "\n",
    "**Answer**: I chose the second question, you can see the results and visualization for 'Washington City' below.\n",
    "- Is the pattern of ridership different on the weekends versus weekdays? On what days are Subscribers most likely to use the system? What about Customers? Does the average duration of rides change depending on the day of the week?"
   ]
  },
  {
   "cell_type": "code",
   "execution_count": 19,
   "metadata": {},
   "outputs": [],
   "source": [
    "## Use this and additional cells to continue to explore the dataset. ##\n",
    "## Once you have performed your exploration, document your findings  ##\n",
    "## in the Markdown cell above.                                       ##\n",
    "\n",
    "def s_days_count(filename, city): #Subscribers\n",
    "    \"\"\"\n",
    "    This function reads in a file with trip data and reports the number of\n",
    "    trips made by subscribers, customers, and total overall.\n",
    "    \"\"\"\n",
    "    with open(filename, 'r') as f:\n",
    "        # set up csv reader object\n",
    "        reader = csv.DictReader(f)\n",
    "        \n",
    "        # initialize count variables and dictionaries for Subscribers days\n",
    "        s_weekends = {'Saturday': 0, 'Sunday':0}\n",
    "        s_weekdays = {'Monday': 0, 'Tuesday':0, 'Wednesday': 0, 'Thursday': 0, 'Friday': 0}\n",
    "        s_weekends_count = 0\n",
    "        s_weekdays_count  = 0\n",
    "        \n",
    "        for row in reader:\n",
    "            if row['user_type']== 'Subscriber':\n",
    "                if row['day_of_week'] in s_weekends:\n",
    "                    s_weekends_count += 1\n",
    "                    if row['day_of_week'] == 'Saturday':\n",
    "                        s_weekends['Saturday'] += 1\n",
    "                    else:\n",
    "                        s_weekends['Sunday'] += 1\n",
    "                else:\n",
    "                    s_weekdays_count += 1\n",
    "                    if row['day_of_week'] == 'Monday':\n",
    "                        s_weekdays['Monday'] += 1\n",
    "                    elif row['day_of_week'] == 'Tuesday':\n",
    "                        s_weekdays['Tuesday'] += 1\n",
    "                    elif row['day_of_week'] == 'Wednesday':\n",
    "                        s_weekdays['Wednesday'] += 1                    \n",
    "                    elif row['day_of_week'] == 'Thursday':\n",
    "                        s_weekdays['Thursday'] += 1                        \n",
    "                    else:\n",
    "                        s_weekdays['Friday'] += 1\n",
    "                        \n",
    "                        \n",
    "        s_weekends_v= [(k,v) for k,v in s_weekends.items()] #create lists for visualizations\n",
    "        s_weekdays_v= [(k,v) for k,v in s_weekdays.items()]\n",
    "        s_weekends_sorted = sorted([(v,k) for k,v in s_weekends.items()], reverse = True) #sort dictionaries to get max \n",
    "        s_weekdays_sorted = sorted([(v,k) for k,v in s_weekdays.items()], reverse = True)\n",
    "        p_wd_we= (s_weekends_count/s_weekdays_count)*100\n",
    "        \n",
    "        if s_weekends_sorted[0][0]> s_weekdays_sorted[0][0]:\n",
    "            most= s_weekends_sorted[0]\n",
    "        else:\n",
    "            most= s_weekdays_sorted[0]\n",
    "            \n",
    "        return(s_weekends_count, s_weekdays_count, p_wd_we, most, s_weekends_sorted[0], s_weekdays_sorted[0], s_weekends_v, s_weekdays_v)\n",
    "                            \n",
    "        "
   ]
  },
  {
   "cell_type": "code",
   "execution_count": 20,
   "metadata": {},
   "outputs": [
    {
     "name": "stdout",
     "output_type": "stream",
     "text": [
      "    For Washington city: The number of weekends Subscribers used the system is 10841, and the number of weekdays subscribers have used the system is 40912, The propotion for weekends subscribers used the system over weekdays is 26.49833789597184.\n",
      "The day Subscribers most likely to use the system for both weekdays and weekends is Wednesday with 8520 times. The day Subscribers most likely to use the system for weekends is Saturday with 5589 times. The day Subscribers most likely to use the system for weekends is Wednesday with 8520 times.\n",
      "    For Chicago city: The number of weekends Subscribers used the system is 11048, and the number of weekdays subscribers have used the system is 43934, The propotion for weekends subscribers used the system over weekdays is 25.14681112577958.\n",
      "The day Subscribers most likely to use the system for both weekdays and weekends is Tuesday with 9356 times. The day Subscribers most likely to use the system for weekends is Saturday with 5676 times. The day Subscribers most likely to use the system for weekends is Tuesday with 9356 times.\n",
      "    For NYC city: The number of weekends Subscribers used the system is 50580, and the number of weekdays subscribers have used the system is 195316, The propotion for weekends subscribers used the system over weekdays is 25.896495934792846.\n",
      "The day Subscribers most likely to use the system for both weekdays and weekends is Wednesday with 41403 times. The day Subscribers most likely to use the system for weekends is Saturday with 26126 times. The day Subscribers most likely to use the system for weekends is Wednesday with 41403 times.\n"
     ]
    }
   ],
   "source": [
    "city_info = {'Washington':'./data/Washington-2016-Summary.csv',\n",
    "             'Chicago':'./data/Chicago-2016-Summary.csv',\n",
    "             'NYC':'./data/NYC-2016-Summary.csv'}\n",
    "for city, filename in city_info.items():\n",
    "    a = s_days_count(filename, city)\n",
    "    print(\"    For {} city: The number of weekends Subscribers used the system is {}, and the number of weekdays subscribers have used the system is {}, The propotion for weekends subscribers used the system over weekdays is {}.\".format(city,str(a[0]),str(a[1]),str(a[2])))\n",
    "    print(\"The day Subscribers most likely to use the system for both weekdays and weekends is {} with {} times. The day Subscribers most likely to use the system for weekends is {} with {} times. The day Subscribers most likely to use the system for weekends is {} with {} times.\".format(str(a[3][1]),str(a[3][0]),str(a[4][1]),str(a[4][0]),str(a[5][1]),str(a[5][0])))"
   ]
  },
  {
   "cell_type": "code",
   "execution_count": 21,
   "metadata": {},
   "outputs": [],
   "source": [
    "def c_days_count(filename, city): #Customers\n",
    "    \"\"\"\n",
    "    This function reads in a file with trip data and reports the number of\n",
    "    trips made by subscribers, customers, and total overall.\n",
    "    \"\"\"\n",
    "    with open(filename, 'r') as f:\n",
    "        # set up csv reader object\n",
    "        reader = csv.DictReader(f)\n",
    "        \n",
    "        # initialize count variables and dictionaries for Customers days\n",
    "        c_weekends = {'Saturday': 0, 'Sunday':0}\n",
    "        c_weekdays = {'Monday': 0, 'Tuesday':0, 'Wednesday': 0, 'Thursday': 0, 'Friday': 0}\n",
    "        c_weekends_count = 0\n",
    "        c_weekdays_count  = 0\n",
    "        \n",
    "        for row in reader:\n",
    "            if row['user_type']== 'Customer':\n",
    "                if row['day_of_week'] in c_weekends:\n",
    "                    c_weekends_count += 1\n",
    "                    if row['day_of_week'] == 'Saturday':\n",
    "                        c_weekends['Saturday'] += 1\n",
    "                    else:\n",
    "                        c_weekends['Sunday'] += 1\n",
    "                else:\n",
    "                    c_weekdays_count += 1\n",
    "                    if row['day_of_week'] == 'Monday':\n",
    "                        c_weekdays['Monday'] += 1\n",
    "                    elif row['day_of_week'] == 'Tuesday':\n",
    "                        c_weekdays['Tuesday'] += 1\n",
    "                    elif row['day_of_week'] == 'Wednesday':\n",
    "                        c_weekdays['Wednesday'] += 1                    \n",
    "                    elif row['day_of_week'] == 'Thursday':\n",
    "                        c_weekdays['Thursday'] += 1                        \n",
    "                    else:\n",
    "                        c_weekdays['Friday'] += 1\n",
    "        c_weekends_v = [(k,v) for k,v in c_weekends.items()]\n",
    "        c_weekdays_v = [(k,v) for k,v in c_weekdays.items()]\n",
    "        c_weekends_sorted = sorted([(v,k) for k,v in c_weekends.items()], reverse = True)\n",
    "        c_weekdays_sorted = sorted([(v,k) for k,v in c_weekdays.items()], reverse = True)\n",
    "        p_wd_we= (c_weekends_count/c_weekdays_count)*100\n",
    "        \n",
    "        if c_weekends_sorted[0][0] > c_weekdays_sorted[0][0]:\n",
    "            most= c_weekends_sorted[0]\n",
    "        else:\n",
    "            most= c_weekdays_sorted[0]\n",
    "            \n",
    "        return(c_weekends_count, c_weekdays_count, p_wd_we, most, c_weekends_sorted[0], c_weekdays_sorted[0], c_weekends_v, c_weekdays_v)"
   ]
  },
  {
   "cell_type": "code",
   "execution_count": 22,
   "metadata": {},
   "outputs": [
    {
     "name": "stdout",
     "output_type": "stream",
     "text": [
      "    For Washington city: The number of weekends Subscribers used the system is 6286, and the number of weekdays subscribers have used the system is 8287, The propotion for weekends subscribers used the system over weekdays is 75.85374683238808.\n",
      "The day Subscribers most likely to use the system for both weekdays and weekends is Saturday with 3311 times. The day Subscribers most likely to use the system for weekends is Saturday with 3311 times. The day Subscribers most likely to use the system for weekends is Friday with 2012 times.\n",
      "    For Chicago city: The number of weekends Subscribers used the system is 8533, and the number of weekdays subscribers have used the system is 8616, The propotion for weekends subscribers used the system over weekdays is 99.03667595171774.\n",
      "The day Subscribers most likely to use the system for both weekdays and weekends is Sunday with 4282 times. The day Subscribers most likely to use the system for weekends is Sunday with 4282 times. The day Subscribers most likely to use the system for weekends is Monday with 2446 times.\n",
      "    For NYC city: The number of weekends Subscribers used the system is 13845, and the number of weekdays subscribers have used the system is 16340, The propotion for weekends subscribers used the system over weekdays is 84.73072215422278.\n",
      "The day Subscribers most likely to use the system for both weekdays and weekends is Saturday with 7069 times. The day Subscribers most likely to use the system for weekends is Saturday with 7069 times. The day Subscribers most likely to use the system for weekends is Friday with 3670 times.\n"
     ]
    }
   ],
   "source": [
    "city_info = {'Washington':'./data/Washington-2016-Summary.csv',\n",
    "             'Chicago':'./data/Chicago-2016-Summary.csv',\n",
    "             'NYC':'./data/NYC-2016-Summary.csv'}\n",
    "for city, filename in city_info.items():\n",
    "    a = c_days_count(filename, city)\n",
    "    print(\"    For {} city: The number of weekends Subscribers used the system is {}, and the number of weekdays subscribers have used the system is {}, The propotion for weekends subscribers used the system over weekdays is {}.\".format(city,str(a[0]),str(a[1]),str(a[2])))\n",
    "    print(\"The day Subscribers most likely to use the system for both weekdays and weekends is {} with {} times. The day Subscribers most likely to use the system for weekends is {} with {} times. The day Subscribers most likely to use the system for weekends is {} with {} times.\".format(str(a[3][1]),str(a[3][0]),str(a[4][1]),str(a[4][0]),str(a[5][1]),str(a[5][0])))"
   ]
  },
  {
   "cell_type": "code",
   "execution_count": 23,
   "metadata": {},
   "outputs": [],
   "source": [
    "def days_as_list(filename, city):\n",
    "    import numpy as np\n",
    "    import matplotlib.pyplot as plt\n",
    "   \n",
    "    %matplotlib inline\n",
    "    \n",
    "    a_s = s_days_count(filename, city)\n",
    "    b_s = a_s[6]\n",
    "    c_s = a_s[7]\n",
    "    data_s= []\n",
    "    \n",
    "    for i in range(len(b_s)):\n",
    "        new= b_s[i][1]\n",
    "        data_s.append(new)\n",
    "    \n",
    "    for i in range(len(c_s)):\n",
    "        data_s.append(c_s[i][1])\n",
    "        \n",
    "    a_c = c_days_count(filename, city)\n",
    "    b_c = a_c[6]\n",
    "    c_c = a_c[7]\n",
    "    data_c= []\n",
    "    \n",
    "    for i in range(len(b_c)):\n",
    "        new= b_c[i][1]\n",
    "        data_c.append(new)\n",
    "    \n",
    "    for i in range(len(c_c)):\n",
    "        data_c.append(c_c[i][1])\n",
    "        \n",
    "    N = 7\n",
    "    ind = np.arange(N)\n",
    "    bar_width = 0.35\n",
    "    opacity = 0.8\n",
    "    p1 = plt.bar(ind, data_s, bar_width, alpha=opacity, color='b', label= 'Subscribers')\n",
    "    p2 = plt.bar(ind + bar_width, data_c, bar_width, alpha=opacity, color='g', label= 'Customers')    \n",
    "\n",
    "    plt.ylabel('times')\n",
    "    plt.xlabel('days')\n",
    "    plt.suptitle(city)\n",
    "    plt.title('Comparing Subscribers and Customers times')\n",
    "    plt.xticks(ind + bar_width, ('Saturday', 'Sunday', 'Monday', 'Tuesday', 'Wednesday', 'Thursday', 'Friday'))\n",
    "    plt.legend()\n",
    "    plt.show()"
   ]
  },
  {
   "cell_type": "code",
   "execution_count": 24,
   "metadata": {},
   "outputs": [
    {
     "data": {
      "image/png": "[encoded data removed]",
      "text/plain": [
       "<Figure size 432x288 with 1 Axes>"
      ]
     },
     "metadata": {},
     "output_type": "display_data"
    },
    {
     "data": {
      "image/png": "[encoded data removed]",
      "text/plain": [
       "<Figure size 432x288 with 1 Axes>"
      ]
     },
     "metadata": {},
     "output_type": "display_data"
    },
    {
     "data": {
      "image/png": "[encoded data removed]",
      "text/plain": [
       "<Figure size 432x288 with 1 Axes>"
      ]
     },
     "metadata": {},
     "output_type": "display_data"
    }
   ],
   "source": [
    "city_info = {'Washington':'./data/Washington-2016-Summary.csv',\n",
    "             'Chicago':'./data/Chicago-2016-Summary.csv',\n",
    "             'NYC':'./data/NYC-2016-Summary.csv'}\n",
    "for city, filename in city_info.items():\n",
    "    days_as_list(filename, city)"
   ]
  },
  {
   "cell_type": "markdown",
   "metadata": {},
   "source": [
    "<a id='conclusions'></a>\n",
    "## Conclusions\n",
    "\n",
    "Congratulations on completing the project! This is only a sampling of the data analysis process: from generating questions, wrangling the data, and to exploring the data. Normally, at this point in the data analysis process, you might want to draw conclusions about the data by performing a statistical test or fitting the data to a model for making predictions. There are also a lot of potential analyses that could be performed on the data which are not possible with only the data provided. For example, detailed location data has not been investigated. Where are the most commonly used docks? What are the most common routes? As another example, weather has potential to have a large impact on daily ridership. How much is ridership impacted when there is rain or snow? Are subscribers or customers affected more by changes in weather?\n",
    "\n",
    "**Question 7**: Putting the bike share data aside, think of a topic or field of interest where you would like to be able to apply the techniques of data science. What would you like to be able to learn from your chosen subject?\n",
    "\n",
    "**Answer**: I work in education, so I was thinking about how useful it would be if we apply these techniques on standerized-tests scores, and compare the scores over the country between cities, and between schools in each city to see how students perform in each city or each school in a single subject, or we may compare multible subjects.\n",
    "And if we do a project-based assessment and compare its scores with the standerized-test scores and see in which one students perform better, and in which subject as well.\n",
    "\n",
    "> **Tip**: If we want to share the results of our analysis with others, we aren't limited to giving them a copy of the jupyter Notebook (.ipynb) file. We can also export the Notebook output in a form that can be opened even for those without Python installed. From the **File** menu in the upper left, go to the **Download as** submenu. You can then choose a different format that can be viewed more generally, such as HTML (.html) or\n",
    "PDF (.pdf). You may need additional packages or software to perform these exports.\n",
    "\n",
    "> If you are working on this project via the Project Notebook page in the classroom, you can also submit this project directly from the workspace. **Before you do that**, you should save an HTML copy of the completed project to the workspace by running the code cell below. If it worked correctly, the output code should be a 0, and if you click on the jupyter icon in the upper left, you should see your .html document in the workspace directory. Alternatively, you can download the .html copy of your report following the steps in the previous paragraph, then _upload_ the report to the directory (by clicking the jupyter icon).\n",
    "\n",
    "> Either way, once you've gotten the .html report in your workspace, you can complete your submission by clicking on the \"Submit Project\" button to the lower-right hand side of the workspace."
   ]
  },
  {
   "cell_type": "code",
   "execution_count": 25,
   "metadata": {},
   "outputs": [
    {
     "data": {
      "text/plain": [
       "0"
      ]
     },
     "execution_count": 25,
     "metadata": {},
     "output_type": "execute_result"
    }
   ],
   "source": [
    "from subprocess import call\n",
    "call(['python', '-m', 'nbconvert', 'Bike_Share_Analysis.ipynb'])"
   ]
  }
 ],
 "metadata": {
  "anaconda-cloud": {},
  "kernelspec": {
   "display_name": "Python [default]",
   "language": "python",
   "name": "python3"
  },
  "language_info": {
   "codemirror_mode": {
    "name": "ipython",
    "version": 3
   },
   "file_extension": ".py",
   "mimetype": "text/x-python",
   "name": "python",
   "nbconvert_exporter": "python",
   "pygments_lexer": "ipython3",
   "version": "3.6.5"
  }
 },
 "nbformat": 4,
 "nbformat_minor": 1
}
